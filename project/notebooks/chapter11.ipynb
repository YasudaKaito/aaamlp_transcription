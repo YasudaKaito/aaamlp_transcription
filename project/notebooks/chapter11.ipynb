{
 "cells": [
  {
   "cell_type": "markdown",
   "id": "c669b314",
   "metadata": {},
   "source": [
    "# 平均・投票\n",
    "## 分類問題を例に考える"
   ]
  },
  {
   "cell_type": "code",
   "execution_count": 2,
   "id": "729cadd9",
   "metadata": {},
   "outputs": [
    {
     "data": {
      "text/plain": [
       "array([0.2, 0.8, 0.6])"
      ]
     },
     "execution_count": 2,
     "metadata": {},
     "output_type": "execute_result"
    }
   ],
   "source": [
    "import numpy as np\n",
    "\n",
    "\n",
    "def mean_predictions(probas):\n",
    "    \"\"\"\n",
    "    予測確率の平均を算出\n",
    "    \n",
    "    :param probas: (データ数, モデルごとの予測確率カラム数) の二次元配列\n",
    "    :return: 予測確率の平均\n",
    "    \"\"\"\n",
    "    return np.mean(probas, axis=1)\n",
    "\n",
    "\n",
    "probas = [[0.1,0.2,0.3],[0.9,0.8,0.7],[0.5,0.4,0.9]]\n",
    "mean_predictions(probas)"
   ]
  },
  {
   "cell_type": "code",
   "execution_count": 6,
   "id": "b4733132",
   "metadata": {},
   "outputs": [
    {
     "name": "stdout",
     "output_type": "stream",
     "text": [
      "[2 2 0]\n",
      "[[2]\n",
      " [2]\n",
      " [0]]\n",
      "[[2]\n",
      " [2]\n",
      " [0]]\n"
     ]
    },
    {
     "data": {
      "text/plain": [
       "array([[1],\n",
       "       [2],\n",
       "       [2]])"
      ]
     },
     "execution_count": 6,
     "metadata": {},
     "output_type": "execute_result"
    }
   ],
   "source": [
    "def max_voting(preds):\n",
    "    \"\"\"\n",
    "    最も投票されたクラスを算出\n",
    "    :param preds: (データ数、モデルごとの予測値（予測クラス）カラム数)の二次元配列\n",
    "    :return: 最も投票されたクラスを表す行列\n",
    "    \"\"\"\n",
    "    idxs = np.argmax(preds, axis=1)\n",
    "    print(idxs)\n",
    "    # 以下２つは同じ. 行ベクトルを(データ数, 1)の行列に変換\n",
    "    print(idxs[:, None])\n",
    "    print(idxs[:, np.newaxis])\n",
    "    return np.take_along_axis(preds, idxs[:, None], axis=1)\n",
    "\n",
    "\n",
    "preds = np.array([\n",
    "    [0,0,1],\n",
    "    [0,1,2],\n",
    "    [2,2,2]\n",
    "])\n",
    "max_voting(preds)"
   ]
  },
  {
   "cell_type": "markdown",
   "id": "ec3ab903",
   "metadata": {},
   "source": [
    "# 予測確率の順位付け\n",
    "- インプットデータについて詳しく書かれてないため実装できない"
   ]
  },
  {
   "cell_type": "code",
   "execution_count": 7,
   "id": "60f6ea91",
   "metadata": {},
   "outputs": [],
   "source": [
    "# from scipy import stats\n",
    "\n",
    "\n",
    "# def rank_mean(probas):\n",
    "#     ranked = []\n",
    "#     for i in range(probas.shape[1]):\n",
    "#             rank_data = stats.rankdata(probas[:, i])\n",
    "#             ranked.append(rank_data)"
   ]
  },
  {
   "cell_type": "code",
   "execution_count": 10,
   "id": "fc352be2",
   "metadata": {},
   "outputs": [
    {
     "data": {
      "text/plain": [
       "array([ 3, 12])"
      ]
     },
     "execution_count": 10,
     "metadata": {},
     "output_type": "execute_result"
    }
   ],
   "source": [
    "np.sum([\n",
    "    [0,1,2],\n",
    "    [3,4,5]\n",
    "], axis=1)"
   ]
  },
  {
   "cell_type": "markdown",
   "id": "6d886c71",
   "metadata": {},
   "source": [
    "# ディリクレ分布とは（p.280）\n",
    "\n",
    "- 参考: https://www.slideshare.net/stjunya/ss-29629644\n",
    "    - 平均、分散がわかると、正規分布の確率密度関数によって確率変数 x のグラフがかけるイメージ。\n",
    "    - 確率質量関数とは確率変数が離散型のときの P(X=□) のこと。**「値を指定すると【値が得られる確率】が得られる」関数**。\n",
    "\n",
    "- 多項分布\n",
    "    - 二項分布とは\n",
    "        - 確率 $ p $ のベルヌーイ試行（P(A） = p となる）をn回繰り返すとき、**Aの起こる回数を確率変数X**とおく。するとXの確率質量関数は下記となり、このような確率変数Xで表される確率分布を二項分布 Bin(n,p)という。回数nを増やすと、Bin(n,p)は正規分布に近づく。\n",
    "            - $ P(X=k) = {}_n \\mathrm{ C }_k p^k (1-p)^{n-k} $\n",
    "    - 多項分布とは\n",
    "        - 例. N回投げたときのサイコロの出る目（5次元）の**出る回数($ n_1回、n_2回、...、n_5回 $)を確率変数**としたときの、下記の確率質量関数で表される分布（$ p_k $ はサイコロの出目がkである確率、 $ n_k $ はサイコロの出目がkである回数）\n",
    "            - 多項係数×すべての確率の積\n",
    "            - 多項係数 $ Multi(n|p, N) = \\frac{\\Gamma(N + 1)}{\\prod_{k=1}^{K}\\Gamma(n_k + 1)}$\n",
    "            - すべての確率の積 $ \\prod_{k=1}^{K}p_k^{n_k} $\n",
    "            - ガンマ関数 $ \\Gamma(m + 1) = m! $\n",
    "    - 共役事前分布とは\n",
    "        - ベイズ更新（連続版）とは\n",
    "            - $ \\pi(\\theta|D) \\propto f(D|\\theta)\\pi(\\theta) $\n",
    "            - 上記式は 事後分布が尤度f（モデルθのもとでのDが起こる確率）と事前分布πの積に比例することを意味する。これによりベイズ更新する。（確率密度関数の定積分が1であるように定数を定めるなどする）\n",
    "        - 共役事前分布とは\n",
    "            - 与えられた尤度に対して、事前分布と事後分布が同じ分布(族)に属するように定める事前分布。"
   ]
  },
  {
   "cell_type": "code",
   "execution_count": 1,
   "id": "0a9a0d64",
   "metadata": {},
   "outputs": [
    {
     "data": {
      "text/plain": [
       "array([1., 1., 1.])"
      ]
     },
     "execution_count": 1,
     "metadata": {},
     "output_type": "execute_result"
    }
   ],
   "source": [
    "import numpy as np\n",
    "\n",
    "\n",
    "np.ones(3)"
   ]
  },
  {
   "cell_type": "code",
   "execution_count": 2,
   "id": "3157e74d",
   "metadata": {},
   "outputs": [
    {
     "data": {
      "text/plain": [
       "array([0.61259773, 0.17670475, 0.21069752])"
      ]
     },
     "execution_count": 2,
     "metadata": {},
     "output_type": "execute_result"
    }
   ],
   "source": [
    "np.random.dirichlet(np.ones(3))"
   ]
  }
 ],
 "metadata": {
  "kernelspec": {
   "display_name": "Python 3 (ipykernel)",
   "language": "python",
   "name": "python3"
  },
  "language_info": {
   "codemirror_mode": {
    "name": "ipython",
    "version": 3
   },
   "file_extension": ".py",
   "mimetype": "text/x-python",
   "name": "python",
   "nbconvert_exporter": "python",
   "pygments_lexer": "ipython3",
   "version": "3.7.6"
  }
 },
 "nbformat": 4,
 "nbformat_minor": 5
}

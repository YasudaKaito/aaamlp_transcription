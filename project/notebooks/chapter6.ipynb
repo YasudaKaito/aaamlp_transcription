{
 "cells": [
  {
   "cell_type": "code",
   "execution_count": 2,
   "id": "1a31dcb1",
   "metadata": {},
   "outputs": [],
   "source": [
    "# 日付データの特徴量\n",
    "import pandas as pd\n",
    "# 10時間の頻度の datetime 列\n",
    "s = pd.date_range(\"2020-01-06\", \"2020-01-10\", freq=\"10H\").to_series()"
   ]
  },
  {
   "cell_type": "code",
   "execution_count": 5,
   "id": "afac25f6",
   "metadata": {},
   "outputs": [],
   "source": [
    "# datetime から特徴量を\n",
    "features = {\n",
    "    \"dayofweek\": s.dt.dayofweek.values,\n",
    "    \"dayofyear\": s.dt.dayofyear.values,\n",
    "    \"hour\": s.dt.hour.values,\n",
    "    \"is_leap_year\": s.dt.is_leap_year.values,\n",
    "    \"quater\": s.dt.quarter.values,\n",
    "    \"weekofyear\": s.dt.weekofyear.values\n",
    "}"
   ]
  },
  {
   "cell_type": "code",
   "execution_count": 7,
   "id": "8c57461f",
   "metadata": {},
   "outputs": [
    {
     "data": {
      "text/plain": [
       "{'dayofweek': array([0, 0, 0, 1, 1, 2, 2, 2, 3, 3]),\n",
       " 'dayofyear': array([6, 6, 6, 7, 7, 8, 8, 8, 9, 9]),\n",
       " 'hour': array([ 0, 10, 20,  6, 16,  2, 12, 22,  8, 18]),\n",
       " 'is_leap_year': array([ True,  True,  True,  True,  True,  True,  True,  True,  True,\n",
       "         True]),\n",
       " 'quater': array([1, 1, 1, 1, 1, 1, 1, 1, 1, 1]),\n",
       " 'weekofyear': array([2, 2, 2, 2, 2, 2, 2, 2, 2, 2])}"
      ]
     },
     "execution_count": 7,
     "metadata": {},
     "output_type": "execute_result"
    }
   ],
   "source": [
    "features"
   ]
  },
  {
   "cell_type": "code",
   "execution_count": 9,
   "id": "77818057",
   "metadata": {},
   "outputs": [],
   "source": [
    "# p.147 のデータがないため作成\n",
    "example_df = pd.DataFrame([\n",
    "  {\n",
    "    \"date\": \"2016-09-01\",\n",
    "    \"customer_id\": 146361,\n",
    "    \"cat1\": 2,\n",
    "    \"cat2\": 2,\n",
    "    \"cat3\": 0,\n",
    "    \"num1\": -0.518679\n",
    "  },\n",
    "  {\n",
    "    \"date\": \"2017-04-01\",\n",
    "    \"customer_id\": 180838,\n",
    "    \"cat1\": 4,\n",
    "    \"cat2\": 1,\n",
    "    \"cat3\": 0,\n",
    "    \"num1\": 0.415853\n",
    "  },\n",
    "  {\n",
    "    \"date\": \"2017-08-01\",\n",
    "    \"customer_id\": 157857,\n",
    "    \"cat1\": 3,\n",
    "    \"cat2\": 3,\n",
    "    \"cat3\": 1,\n",
    "    \"num1\": -2.061687\n",
    "  },\n",
    "  {\n",
    "    \"date\": \"2017-12-01\",\n",
    "    \"customer_id\": 159772,\n",
    "    \"cat1\": 5,\n",
    "    \"cat2\": 1,\n",
    "    \"cat3\": 1,\n",
    "    \"num1\": -0.276558\n",
    "  },\n",
    "  {\n",
    "    \"date\": \"2017-09-01\",\n",
    "    \"customer_id\": 80014,\n",
    "    \"cat1\": 3,\n",
    "    \"cat2\": 2,\n",
    "    \"cat3\": 1,\n",
    "    \"num1\": -1.456827\n",
    "  }\n",
    "])"
   ]
  },
  {
   "cell_type": "code",
   "execution_count": 11,
   "id": "f925dbb2",
   "metadata": {},
   "outputs": [
    {
     "data": {
      "text/html": [
       "<div>\n",
       "<style scoped>\n",
       "    .dataframe tbody tr th:only-of-type {\n",
       "        vertical-align: middle;\n",
       "    }\n",
       "\n",
       "    .dataframe tbody tr th {\n",
       "        vertical-align: top;\n",
       "    }\n",
       "\n",
       "    .dataframe thead th {\n",
       "        text-align: right;\n",
       "    }\n",
       "</style>\n",
       "<table border=\"1\" class=\"dataframe\">\n",
       "  <thead>\n",
       "    <tr style=\"text-align: right;\">\n",
       "      <th></th>\n",
       "      <th>date</th>\n",
       "      <th>customer_id</th>\n",
       "      <th>cat1</th>\n",
       "      <th>cat2</th>\n",
       "      <th>cat3</th>\n",
       "      <th>num1</th>\n",
       "    </tr>\n",
       "  </thead>\n",
       "  <tbody>\n",
       "    <tr>\n",
       "      <th>0</th>\n",
       "      <td>2016-09-01</td>\n",
       "      <td>146361</td>\n",
       "      <td>2</td>\n",
       "      <td>2</td>\n",
       "      <td>0</td>\n",
       "      <td>-0.518679</td>\n",
       "    </tr>\n",
       "    <tr>\n",
       "      <th>1</th>\n",
       "      <td>2017-04-01</td>\n",
       "      <td>180838</td>\n",
       "      <td>4</td>\n",
       "      <td>1</td>\n",
       "      <td>0</td>\n",
       "      <td>0.415853</td>\n",
       "    </tr>\n",
       "    <tr>\n",
       "      <th>2</th>\n",
       "      <td>2017-08-01</td>\n",
       "      <td>157857</td>\n",
       "      <td>3</td>\n",
       "      <td>3</td>\n",
       "      <td>1</td>\n",
       "      <td>-2.061687</td>\n",
       "    </tr>\n",
       "    <tr>\n",
       "      <th>3</th>\n",
       "      <td>2017-12-01</td>\n",
       "      <td>159772</td>\n",
       "      <td>5</td>\n",
       "      <td>1</td>\n",
       "      <td>1</td>\n",
       "      <td>-0.276558</td>\n",
       "    </tr>\n",
       "    <tr>\n",
       "      <th>4</th>\n",
       "      <td>2017-09-01</td>\n",
       "      <td>80014</td>\n",
       "      <td>3</td>\n",
       "      <td>2</td>\n",
       "      <td>1</td>\n",
       "      <td>-1.456827</td>\n",
       "    </tr>\n",
       "  </tbody>\n",
       "</table>\n",
       "</div>"
      ],
      "text/plain": [
       "         date  customer_id  cat1  cat2  cat3      num1\n",
       "0  2016-09-01       146361     2     2     0 -0.518679\n",
       "1  2017-04-01       180838     4     1     0  0.415853\n",
       "2  2017-08-01       157857     3     3     1 -2.061687\n",
       "3  2017-12-01       159772     5     1     1 -0.276558\n",
       "4  2017-09-01        80014     3     2     1 -1.456827"
      ]
     },
     "execution_count": 11,
     "metadata": {},
     "output_type": "execute_result"
    }
   ],
   "source": [
    "example_df.head()"
   ]
  },
  {
   "cell_type": "code",
   "execution_count": 14,
   "id": "2bc4a10c",
   "metadata": {},
   "outputs": [],
   "source": [
    "def genearate_features(df: pd.DataFrame):\n",
    "    df.loc[:, \"year\"] = df[\"date\"].dt.year\n",
    "    df.loc[:, \"weekofyear\"] = df[\"date\"].dt.weekofyear\n",
    "    df.loc[:, \"month\"] = df[\"date\"].dt.month\n",
    "    df.loc[:, \"dayofweek\"] = df[\"date\"].dt.dayofweeks\n",
    "    df.loc[:, \"weekend\"] = (df[\"date\"].dt.weekday >= 5).astype(int)\n",
    "    \n",
    "    aggs = {}\n",
    "    aggs[\"month\"] = [\"nunique\", \"mean\"]\n",
    "    aggs[\"weekofyear\"] = [\"nunique\", \"mean\"]\n",
    "    aggs[\"num1\"] = [\"sum\", \"max\", \"min\", \"mean\"]\n",
    "    aggs[\"customer_id\"] = [\"size\"]\n",
    "    aggs[\"customer_id\"] = [\"nunique\"]\n",
    "    \n",
    "    # customer_id を軸に集約\n",
    "    agg_df = df.groupby(\"customer_id\").agg(aggs)\n",
    "    agg_df = agg_df.reset_index()\n",
    "    return agg_df"
   ]
  },
  {
   "cell_type": "code",
   "execution_count": 17,
   "id": "2466ddac",
   "metadata": {},
   "outputs": [],
   "source": [
    "example_df[\"date\"] = pd.to_datetime(example_df[\"date\"])"
   ]
  },
  {
   "cell_type": "code",
   "execution_count": 19,
   "id": "b915dad8",
   "metadata": {},
   "outputs": [],
   "source": [
    "example_result = genearate_features(example_df)"
   ]
  },
  {
   "cell_type": "code",
   "execution_count": 21,
   "id": "69025a3e",
   "metadata": {},
   "outputs": [
    {
     "data": {
      "text/html": [
       "<div>\n",
       "<style scoped>\n",
       "    .dataframe tbody tr th:only-of-type {\n",
       "        vertical-align: middle;\n",
       "    }\n",
       "\n",
       "    .dataframe tbody tr th {\n",
       "        vertical-align: top;\n",
       "    }\n",
       "\n",
       "    .dataframe thead tr th {\n",
       "        text-align: left;\n",
       "    }\n",
       "</style>\n",
       "<table border=\"1\" class=\"dataframe\">\n",
       "  <thead>\n",
       "    <tr>\n",
       "      <th></th>\n",
       "      <th>customer_id</th>\n",
       "      <th colspan=\"2\" halign=\"left\">month</th>\n",
       "      <th colspan=\"2\" halign=\"left\">weekofyear</th>\n",
       "      <th colspan=\"4\" halign=\"left\">num1</th>\n",
       "      <th>customer_id</th>\n",
       "    </tr>\n",
       "    <tr>\n",
       "      <th></th>\n",
       "      <th></th>\n",
       "      <th>nunique</th>\n",
       "      <th>mean</th>\n",
       "      <th>nunique</th>\n",
       "      <th>mean</th>\n",
       "      <th>sum</th>\n",
       "      <th>max</th>\n",
       "      <th>min</th>\n",
       "      <th>mean</th>\n",
       "      <th>nunique</th>\n",
       "    </tr>\n",
       "  </thead>\n",
       "  <tbody>\n",
       "    <tr>\n",
       "      <th>0</th>\n",
       "      <td>80014</td>\n",
       "      <td>1</td>\n",
       "      <td>9</td>\n",
       "      <td>1</td>\n",
       "      <td>35</td>\n",
       "      <td>-1.456827</td>\n",
       "      <td>-1.456827</td>\n",
       "      <td>-1.456827</td>\n",
       "      <td>-1.456827</td>\n",
       "      <td>1</td>\n",
       "    </tr>\n",
       "    <tr>\n",
       "      <th>1</th>\n",
       "      <td>146361</td>\n",
       "      <td>1</td>\n",
       "      <td>9</td>\n",
       "      <td>1</td>\n",
       "      <td>35</td>\n",
       "      <td>-0.518679</td>\n",
       "      <td>-0.518679</td>\n",
       "      <td>-0.518679</td>\n",
       "      <td>-0.518679</td>\n",
       "      <td>1</td>\n",
       "    </tr>\n",
       "    <tr>\n",
       "      <th>2</th>\n",
       "      <td>157857</td>\n",
       "      <td>1</td>\n",
       "      <td>8</td>\n",
       "      <td>1</td>\n",
       "      <td>31</td>\n",
       "      <td>-2.061687</td>\n",
       "      <td>-2.061687</td>\n",
       "      <td>-2.061687</td>\n",
       "      <td>-2.061687</td>\n",
       "      <td>1</td>\n",
       "    </tr>\n",
       "    <tr>\n",
       "      <th>3</th>\n",
       "      <td>159772</td>\n",
       "      <td>1</td>\n",
       "      <td>12</td>\n",
       "      <td>1</td>\n",
       "      <td>48</td>\n",
       "      <td>-0.276558</td>\n",
       "      <td>-0.276558</td>\n",
       "      <td>-0.276558</td>\n",
       "      <td>-0.276558</td>\n",
       "      <td>1</td>\n",
       "    </tr>\n",
       "    <tr>\n",
       "      <th>4</th>\n",
       "      <td>180838</td>\n",
       "      <td>1</td>\n",
       "      <td>4</td>\n",
       "      <td>1</td>\n",
       "      <td>13</td>\n",
       "      <td>0.415853</td>\n",
       "      <td>0.415853</td>\n",
       "      <td>0.415853</td>\n",
       "      <td>0.415853</td>\n",
       "      <td>1</td>\n",
       "    </tr>\n",
       "  </tbody>\n",
       "</table>\n",
       "</div>"
      ],
      "text/plain": [
       "  customer_id   month      weekofyear           num1                      \\\n",
       "              nunique mean    nunique mean       sum       max       min   \n",
       "0       80014       1    9          1   35 -1.456827 -1.456827 -1.456827   \n",
       "1      146361       1    9          1   35 -0.518679 -0.518679 -0.518679   \n",
       "2      157857       1    8          1   31 -2.061687 -2.061687 -2.061687   \n",
       "3      159772       1   12          1   48 -0.276558 -0.276558 -0.276558   \n",
       "4      180838       1    4          1   13  0.415853  0.415853  0.415853   \n",
       "\n",
       "            customer_id  \n",
       "       mean     nunique  \n",
       "0 -1.456827           1  \n",
       "1 -0.518679           1  \n",
       "2 -2.061687           1  \n",
       "3 -0.276558           1  \n",
       "4  0.415853           1  "
      ]
     },
     "execution_count": 21,
     "metadata": {},
     "output_type": "execute_result"
    }
   ],
   "source": [
    "example_result.head()"
   ]
  },
  {
   "cell_type": "code",
   "execution_count": 23,
   "id": "6366bcad",
   "metadata": {},
   "outputs": [
    {
     "data": {
      "text/html": [
       "<div>\n",
       "<style scoped>\n",
       "    .dataframe tbody tr th:only-of-type {\n",
       "        vertical-align: middle;\n",
       "    }\n",
       "\n",
       "    .dataframe tbody tr th {\n",
       "        vertical-align: top;\n",
       "    }\n",
       "\n",
       "    .dataframe thead th {\n",
       "        text-align: right;\n",
       "    }\n",
       "</style>\n",
       "<table border=\"1\" class=\"dataframe\">\n",
       "  <thead>\n",
       "    <tr style=\"text-align: right;\">\n",
       "      <th></th>\n",
       "      <th>f_1</th>\n",
       "      <th>f_2</th>\n",
       "    </tr>\n",
       "  </thead>\n",
       "  <tbody>\n",
       "    <tr>\n",
       "      <th>0</th>\n",
       "      <td>0.435921</td>\n",
       "      <td>0.280343</td>\n",
       "    </tr>\n",
       "    <tr>\n",
       "      <th>1</th>\n",
       "      <td>0.795443</td>\n",
       "      <td>0.049456</td>\n",
       "    </tr>\n",
       "    <tr>\n",
       "      <th>2</th>\n",
       "      <td>0.367548</td>\n",
       "      <td>0.266988</td>\n",
       "    </tr>\n",
       "    <tr>\n",
       "      <th>3</th>\n",
       "      <td>0.801111</td>\n",
       "      <td>0.919749</td>\n",
       "    </tr>\n",
       "    <tr>\n",
       "      <th>4</th>\n",
       "      <td>0.567674</td>\n",
       "      <td>0.780339</td>\n",
       "    </tr>\n",
       "  </tbody>\n",
       "</table>\n",
       "</div>"
      ],
      "text/plain": [
       "        f_1       f_2\n",
       "0  0.435921  0.280343\n",
       "1  0.795443  0.049456\n",
       "2  0.367548  0.266988\n",
       "3  0.801111  0.919749\n",
       "4  0.567674  0.780339"
      ]
     },
     "execution_count": 23,
     "metadata": {},
     "output_type": "execute_result"
    }
   ],
   "source": [
    "import numpy as np\n",
    "# 100行2列の [0,1) の一様分布乱数のデータフレーム\n",
    "df = pd.DataFrame(\n",
    "    np.random.rand(100, 2),\n",
    "    columns=[f\"f_{i}\" for i in range(1, 3)]\n",
    ")\n",
    "df.head()"
   ]
  },
  {
   "cell_type": "code",
   "execution_count": 25,
   "id": "a667364c",
   "metadata": {},
   "outputs": [
    {
     "data": {
      "text/plain": [
       "PolynomialFeatures(include_bias=False)"
      ]
     },
     "execution_count": 25,
     "metadata": {},
     "output_type": "execute_result"
    }
   ],
   "source": [
    "# 2次の多項式特徴量（a, b, ab, a^2 b^2）を作成\n",
    "from sklearn import preprocessing\n",
    "pf = preprocessing.PolynomialFeatures(\n",
    "    degree=2,\n",
    "    interaction_only=False,\n",
    "    include_bias=False\n",
    ")\n",
    "pf.fit(df)"
   ]
  },
  {
   "cell_type": "code",
   "execution_count": 28,
   "id": "6f025ec1",
   "metadata": {},
   "outputs": [
    {
     "data": {
      "text/plain": [
       "numpy.ndarray"
      ]
     },
     "execution_count": 28,
     "metadata": {},
     "output_type": "execute_result"
    }
   ],
   "source": [
    "poly_feats = pf.transform(df)\n",
    "type(poly_feats)"
   ]
  },
  {
   "cell_type": "code",
   "execution_count": 30,
   "id": "f2e0f0be",
   "metadata": {},
   "outputs": [
    {
     "data": {
      "text/plain": [
       "(100, 5)"
      ]
     },
     "execution_count": 30,
     "metadata": {},
     "output_type": "execute_result"
    }
   ],
   "source": [
    "poly_feats.shape"
   ]
  },
  {
   "cell_type": "code",
   "execution_count": 31,
   "id": "5f69dcba",
   "metadata": {},
   "outputs": [
    {
     "data": {
      "text/html": [
       "<div>\n",
       "<style scoped>\n",
       "    .dataframe tbody tr th:only-of-type {\n",
       "        vertical-align: middle;\n",
       "    }\n",
       "\n",
       "    .dataframe tbody tr th {\n",
       "        vertical-align: top;\n",
       "    }\n",
       "\n",
       "    .dataframe thead th {\n",
       "        text-align: right;\n",
       "    }\n",
       "</style>\n",
       "<table border=\"1\" class=\"dataframe\">\n",
       "  <thead>\n",
       "    <tr style=\"text-align: right;\">\n",
       "      <th></th>\n",
       "      <th>f_1</th>\n",
       "      <th>f_2</th>\n",
       "      <th>f_3</th>\n",
       "      <th>f_4</th>\n",
       "      <th>f_5</th>\n",
       "    </tr>\n",
       "  </thead>\n",
       "  <tbody>\n",
       "    <tr>\n",
       "      <th>0</th>\n",
       "      <td>0.435921</td>\n",
       "      <td>0.280343</td>\n",
       "      <td>0.190027</td>\n",
       "      <td>0.122208</td>\n",
       "      <td>0.078592</td>\n",
       "    </tr>\n",
       "    <tr>\n",
       "      <th>1</th>\n",
       "      <td>0.795443</td>\n",
       "      <td>0.049456</td>\n",
       "      <td>0.632730</td>\n",
       "      <td>0.039340</td>\n",
       "      <td>0.002446</td>\n",
       "    </tr>\n",
       "    <tr>\n",
       "      <th>2</th>\n",
       "      <td>0.367548</td>\n",
       "      <td>0.266988</td>\n",
       "      <td>0.135092</td>\n",
       "      <td>0.098131</td>\n",
       "      <td>0.071283</td>\n",
       "    </tr>\n",
       "    <tr>\n",
       "      <th>3</th>\n",
       "      <td>0.801111</td>\n",
       "      <td>0.919749</td>\n",
       "      <td>0.641779</td>\n",
       "      <td>0.736821</td>\n",
       "      <td>0.845938</td>\n",
       "    </tr>\n",
       "    <tr>\n",
       "      <th>4</th>\n",
       "      <td>0.567674</td>\n",
       "      <td>0.780339</td>\n",
       "      <td>0.322253</td>\n",
       "      <td>0.442978</td>\n",
       "      <td>0.608928</td>\n",
       "    </tr>\n",
       "  </tbody>\n",
       "</table>\n",
       "</div>"
      ],
      "text/plain": [
       "        f_1       f_2       f_3       f_4       f_5\n",
       "0  0.435921  0.280343  0.190027  0.122208  0.078592\n",
       "1  0.795443  0.049456  0.632730  0.039340  0.002446\n",
       "2  0.367548  0.266988  0.135092  0.098131  0.071283\n",
       "3  0.801111  0.919749  0.641779  0.736821  0.845938\n",
       "4  0.567674  0.780339  0.322253  0.442978  0.608928"
      ]
     },
     "execution_count": 31,
     "metadata": {},
     "output_type": "execute_result"
    }
   ],
   "source": [
    "# データフレーム作成\n",
    "num_feats = poly_feats.shape[1]\n",
    "df_transformed = pd.DataFrame(poly_feats, columns=[f\"f_{i}\" for i in range(1, num_feats + 1)])\n",
    "df_transformed.head()"
   ]
  }
 ],
 "metadata": {
  "kernelspec": {
   "display_name": "Python 3 (ipykernel)",
   "language": "python",
   "name": "python3"
  },
  "language_info": {
   "codemirror_mode": {
    "name": "ipython",
    "version": 3
   },
   "file_extension": ".py",
   "mimetype": "text/x-python",
   "name": "python",
   "nbconvert_exporter": "python",
   "pygments_lexer": "ipython3",
   "version": "3.7.6"
  }
 },
 "nbformat": 4,
 "nbformat_minor": 5
}

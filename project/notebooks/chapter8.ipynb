{
 "cells": [
  {
   "cell_type": "markdown",
   "id": "869a3028",
   "metadata": {},
   "source": [
    "# ガウス過程を用いたベイズ最適化によるハイパーパラメータ探索\n",
    "\n",
    "- イメージとして https://www.slideshare.net/hoxo_m/ss-77421091 がわかりやすい"
   ]
  },
  {
   "cell_type": "code",
   "execution_count": null,
   "id": "af816c3d",
   "metadata": {},
   "outputs": [],
   "source": []
  }
 ],
 "metadata": {
  "kernelspec": {
   "display_name": "Python 3 (ipykernel)",
   "language": "python",
   "name": "python3"
  },
  "language_info": {
   "codemirror_mode": {
    "name": "ipython",
    "version": 3
   },
   "file_extension": ".py",
   "mimetype": "text/x-python",
   "name": "python",
   "nbconvert_exporter": "python",
   "pygments_lexer": "ipython3",
   "version": "3.7.6"
  }
 },
 "nbformat": 4,
 "nbformat_minor": 5
}
